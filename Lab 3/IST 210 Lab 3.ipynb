{
 "cells": [
  {
   "cell_type": "markdown",
   "metadata": {},
   "source": [
    "![](images/Lab3.png)\n",
    "The purpose of this database is to keep track of the transactions and effectiveness of the loyalty program in the pet store. The database contains five entities in total. The first two entities are “Fish” and “Pet”. These two tables include the animals that are either to be sold or adopted by the customers. For “Fish” entity, the attributes are “Fish type(Primary Key)” and the Aquarium Number; For “Pet” entity, the attributes are “Pet type(Primary Key)” and the Enclosure Number. The third entity is “TransactionAnimal ”, which keeps track of the transaction order that purchases the animals. Its attributes include “Transaction Animal ID(Primary Key)”, Animal, Animal Type (Forign Key), and Customer ID(Foreign Key). There is also another transaction table that keeps track of the pet food transactions. Its primary key is TransactionFoodID, and the foreign key is Customer ID. The rest of the attributes are “Barcode” and “Quantity”. The last entity is the “loyalty program), with “customer ID” as the primary key. The rest of the attributes are “First Name”, “Last Name”, “DOB”, “Email”, and “Points”.\n",
    "<br>\n",
    "Relations: The Pet and Fish tables are connected to the Animal Transaction Table by “type”. The pet and fish are purchased by the animal transactions. Each occurrence in the pet/fish entity belongs only one transaction order, while one transaction order might purchase multiple pets/fish, so the relations here would be the “One to One” on the left side and “One to Many” on the right side. \n",
    "<br>\n",
    "The customer ID in both transaction tables is connected to the customer ID in the Loyalty Program. Similar to the last case, the transaction table for the animals and food are purchased by the loyalty program. Since one transaction order goes to one customer, and one customer might want to have multiple transactions, the relations here would still be a “One to One” on the left side and “One to Many”  on the right side.\n"
   ]
  },
  {
   "cell_type": "code",
   "execution_count": null,
   "metadata": {},
   "outputs": [],
   "source": []
  }
 ],
 "metadata": {
  "kernelspec": {
   "display_name": "Python 3",
   "language": "python",
   "name": "python3"
  },
  "language_info": {
   "codemirror_mode": {
    "name": "ipython",
    "version": 3
   },
   "file_extension": ".py",
   "mimetype": "text/x-python",
   "name": "python",
   "nbconvert_exporter": "python",
   "pygments_lexer": "ipython3",
   "version": "3.7.3"
  }
 },
 "nbformat": 4,
 "nbformat_minor": 2
}
